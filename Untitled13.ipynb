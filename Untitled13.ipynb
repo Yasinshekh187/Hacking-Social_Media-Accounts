{
  "nbformat": 4,
  "nbformat_minor": 0,
  "metadata": {
    "colab": {
      "provenance": [],
      "authorship_tag": "ABX9TyMLq2INgpmteWfBxqpxAj0o",
      "include_colab_link": true
    },
    "kernelspec": {
      "name": "python3",
      "display_name": "Python 3"
    },
    "language_info": {
      "name": "python"
    }
  },
  "cells": [
    {
      "cell_type": "markdown",
      "metadata": {
        "id": "view-in-github",
        "colab_type": "text"
      },
      "source": [
        "<a href=\"https://colab.research.google.com/github/Yasinshekh187/Hacking-Social_Media-Accounts/blob/main/Untitled13.ipynb\" target=\"_parent\"><img src=\"https://colab.research.google.com/assets/colab-badge.svg\" alt=\"Open In Colab\"/></a>"
      ]
    },
    {
      "cell_type": "code",
      "execution_count": null,
      "metadata": {
        "colab": {
          "base_uri": "https://localhost:8080/"
        },
        "id": "_cQ_KUhsRdgv",
        "outputId": "1ec6076d-ccb7-4e13-c8d2-32ff46fbc5ec"
      },
      "outputs": [
        {
          "output_type": "stream",
          "name": "stdout",
          "text": [
            "Collecting phonenumbers\n",
            "  Downloading phonenumbers-8.13.43-py2.py3-none-any.whl.metadata (10 kB)\n",
            "Downloading phonenumbers-8.13.43-py2.py3-none-any.whl (2.6 MB)\n",
            "\u001b[2K   \u001b[90m━━━━━━━━━━━━━━━━━━━━━━━━━━━━━━━━━━━━━━━━\u001b[0m \u001b[32m2.6/2.6 MB\u001b[0m \u001b[31m20.9 MB/s\u001b[0m eta \u001b[36m0:00:00\u001b[0m\n",
            "\u001b[?25hInstalling collected packages: phonenumbers\n",
            "Successfully installed phonenumbers-8.13.43\n"
          ]
        }
      ],
      "source": [
        "pip install phonenumbers\n"
      ]
    },
    {
      "cell_type": "code",
      "source": [
        "try:\n",
        "    # Parse the phone number\n",
        "parsed_number = phonenumbers.parse(number)\n",
        "# Get the country and location\n",
        "country = geocoder.region_code_for_number(parsed_number)\n",
        "location = geocoder.description_for_number(parsed_number, 'en')\n",
        "# Get the carrier\n",
        "\n",
        "\n",
        "service_provider = carrier.name_for_number(parsed_number, 'en')\n",
        "\n",
        "return {\n",
        "        'Country': country,\n",
        "    }\n",
        "{\n",
        "'Location': location,\n",
        "        'Service Provider': service_provider\n",
        "}\n",
        "except Exception as e:\n",
        "    return str(e)\n",
        "\n",
        "if __name__ == \"__main__\":\n",
        "    number = \"+16138992848\"  # Replace this with the phone number you want to trace\n",
        "    result = trace_phone_number(number)\n",
        "    print(result)"
      ],
      "metadata": {
        "colab": {
          "base_uri": "https://localhost:8080/",
          "height": 181
        },
        "id": "FZYIEugZSIVo",
        "outputId": "aae9c21d-6445-4af8-9582-62c56051a111"
      },
      "execution_count": null,
      "outputs": [
        {
          "output_type": "error",
          "ename": "IndentationError",
          "evalue": "expected an indented block after 'try' statement on line 1 (<ipython-input-7-b7c57e293697>, line 3)",
          "traceback": [
            "\u001b[0;36m  File \u001b[0;32m\"<ipython-input-7-b7c57e293697>\"\u001b[0;36m, line \u001b[0;32m3\u001b[0m\n\u001b[0;31m    parsed_number = phonenumbers.parse(number)\u001b[0m\n\u001b[0m    ^\u001b[0m\n\u001b[0;31mIndentationError\u001b[0m\u001b[0;31m:\u001b[0m expected an indented block after 'try' statement on line 1\n"
          ]
        }
      ]
    },
    {
      "cell_type": "code",
      "source": [],
      "metadata": {
        "id": "qY0A82zJFHoS"
      },
      "execution_count": 4,
      "outputs": []
    },
    {
      "source": [
        "!pip install phonenumbers # install the phonenumbers module\n",
        "import phonenumbers # import the module\n",
        "import geocoder\n",
        "from phonenumbers import carrier\n",
        "\n",
        "try:\n",
        "    # Your code that might raise an exception\n",
        "    number = \"+16138992848\"\n",
        "    parsed_number = phonenumbers.parse(number)\n",
        "    location = geocoder.description_for_number(parsed_number, \"en\")\n",
        "    service_provider = carrier.name_for_number(parsed_number, \"en\")\n",
        "\n",
        "    return {\n",
        "        'Location': location,\n",
        "        'Service Provider': service_provider\n",
        "    }\n",
        "except Exception as e:\n",
        "    return str(e)"
      ],
      "cell_type": "code",
      "metadata": {
        "colab": {
          "base_uri": "https://localhost:8080/",
          "height": 231
        },
        "id": "gdc5JsnCFP3m",
        "outputId": "990ccb4f-5235-4981-86ac-a0b5dbc786e6"
      },
      "execution_count": 6,
      "outputs": [
        {
          "output_type": "stream",
          "name": "stdout",
          "text": [
            "Collecting phonenumbers\n",
            "  Downloading phonenumbers-8.13.44-py2.py3-none-any.whl.metadata (10 kB)\n",
            "Downloading phonenumbers-8.13.44-py2.py3-none-any.whl (2.6 MB)\n",
            "\u001b[2K   \u001b[90m━━━━━━━━━━━━━━━━━━━━━━━━━━━━━━━━━━━━━━━━\u001b[0m \u001b[32m2.6/2.6 MB\u001b[0m \u001b[31m11.8 MB/s\u001b[0m eta \u001b[36m0:00:00\u001b[0m\n",
            "\u001b[?25hInstalling collected packages: phonenumbers\n",
            "Successfully installed phonenumbers-8.13.44\n"
          ]
        },
        {
          "output_type": "error",
          "ename": "SyntaxError",
          "evalue": "'return' outside function (<ipython-input-6-3a8fbab6aba4>, line 13)",
          "traceback": [
            "\u001b[0;36m  File \u001b[0;32m\"<ipython-input-6-3a8fbab6aba4>\"\u001b[0;36m, line \u001b[0;32m13\u001b[0m\n\u001b[0;31m    return {\u001b[0m\n\u001b[0m    ^\u001b[0m\n\u001b[0;31mSyntaxError\u001b[0m\u001b[0;31m:\u001b[0m 'return' outside function\n"
          ]
        }
      ]
    },
    {
      "source": [
        "!pip install phonenumbers # install the phonenumbers module\n",
        "import phonenumbers # import the module\n",
        "import geocoder\n",
        "from phonenumbers import carrier\n",
        "\n",
        "try:\n",
        "    # Your code that might raise an exception\n",
        "    number = \"+16138992848\"\n",
        "    parsed_number = phonenumbers.parse(number)\n",
        "    location = geocoder.description_for_number(parsed_number, \"en\")\n",
        "    service_provider = carrier.name_for_number(parsed_number, \"en\")\n",
        "\n",
        "    return {\n",
        "        'Location': location,\n",
        "        'Service Provider': service_provider\n",
        "    }\n",
        "except Exception as e:\n",
        "    return str(e)"
      ],
      "cell_type": "code",
      "metadata": {
        "id": "WrRRiHStFc4a"
      },
      "execution_count": null,
      "outputs": []
    },
    {
      "source": [
        "!pip install phonenumbers # install the phonenumbers module\n",
        "import phonenumbers # import the module\n",
        "import geocoder\n",
        "from phonenumbers import carrier\n",
        "\n",
        "try:\n",
        "    # Your code that might raise an exception\n",
        "    number = \"+16138992848\"\n",
        "    parsed_number = phonenumbers.parse(number)\n",
        "    location = geocoder.description_for_number(parsed_number, \"en\")\n",
        "    service_provider = carrier.name_for_number(parsed_number, \"en\")\n",
        "\n",
        "    return {\n",
        "        'Location': location,\n",
        "        'Service Provider': service_provider\n",
        "    }\n",
        "except Exception as e:\n",
        "    return str(e)"
      ],
      "cell_type": "code",
      "metadata": {
        "colab": {
          "base_uri": "https://localhost:8080/",
          "height": 144
        },
        "id": "1ArE6-OaFdmf",
        "outputId": "9d6c12aa-75f7-491d-959b-f05e3459cbb0"
      },
      "execution_count": 7,
      "outputs": [
        {
          "output_type": "stream",
          "name": "stdout",
          "text": [
            "Requirement already satisfied: phonenumbers in /usr/local/lib/python3.10/dist-packages (8.13.44)\n"
          ]
        },
        {
          "output_type": "error",
          "ename": "SyntaxError",
          "evalue": "'return' outside function (<ipython-input-7-3a8fbab6aba4>, line 13)",
          "traceback": [
            "\u001b[0;36m  File \u001b[0;32m\"<ipython-input-7-3a8fbab6aba4>\"\u001b[0;36m, line \u001b[0;32m13\u001b[0m\n\u001b[0;31m    return {\u001b[0m\n\u001b[0m    ^\u001b[0m\n\u001b[0;31mSyntaxError\u001b[0m\u001b[0;31m:\u001b[0m 'return' outside function\n"
          ]
        }
      ]
    },
    {
      "cell_type": "code",
      "source": [
        "\n",
        "    # Your code that might raise an exception\n",
        "parsed_number = phonenumbers.parse(number)\n",
        "location = geocoder.description_for_number(parsed_number, \"en\")\n",
        "service_provider = carrier.name_for_number(parsed_number, \"en\")\n",
        "return {}\n",
        "\n",
        "{\n",
        "    'Location': location,\n",
        "    'Service Provider': service_provider\n",
        "}\n",
        "return str(e)"
      ],
      "metadata": {
        "colab": {
          "base_uri": "https://localhost:8080/",
          "height": 245
        },
        "id": "O0IOsLjmi5c-",
        "outputId": "8d59b815-6c81-46e8-e5dd-45112fb0f7e2"
      },
      "execution_count": 4,
      "outputs": [
        {
          "output_type": "error",
          "ename": "NameError",
          "evalue": "name 'phonenumbers' is not defined",
          "traceback": [
            "\u001b[0;31m---------------------------------------------------------------------------\u001b[0m",
            "\u001b[0;31mNameError\u001b[0m                                 Traceback (most recent call last)",
            "\u001b[0;32m<ipython-input-4-c8a3cb5b2780>\u001b[0m in \u001b[0;36m<cell line: 2>\u001b[0;34m()\u001b[0m\n\u001b[1;32m      1\u001b[0m \u001b[0;31m# Your code that might raise an exception\u001b[0m\u001b[0;34m\u001b[0m\u001b[0;34m\u001b[0m\u001b[0m\n\u001b[0;32m----> 2\u001b[0;31m \u001b[0mparsed_number\u001b[0m \u001b[0;34m=\u001b[0m \u001b[0mphonenumbers\u001b[0m\u001b[0;34m.\u001b[0m\u001b[0mparse\u001b[0m\u001b[0;34m(\u001b[0m\u001b[0mnumber\u001b[0m\u001b[0;34m)\u001b[0m\u001b[0;34m\u001b[0m\u001b[0;34m\u001b[0m\u001b[0m\n\u001b[0m\u001b[1;32m      3\u001b[0m \u001b[0mlocation\u001b[0m \u001b[0;34m=\u001b[0m \u001b[0mgeocoder\u001b[0m\u001b[0;34m.\u001b[0m\u001b[0mdescription_for_number\u001b[0m\u001b[0;34m(\u001b[0m\u001b[0mparsed_number\u001b[0m\u001b[0;34m,\u001b[0m \u001b[0;34m\"en\"\u001b[0m\u001b[0;34m)\u001b[0m\u001b[0;34m\u001b[0m\u001b[0;34m\u001b[0m\u001b[0m\n\u001b[1;32m      4\u001b[0m \u001b[0mservice_provider\u001b[0m \u001b[0;34m=\u001b[0m \u001b[0mcarrier\u001b[0m\u001b[0;34m.\u001b[0m\u001b[0mname_for_number\u001b[0m\u001b[0;34m(\u001b[0m\u001b[0mparsed_number\u001b[0m\u001b[0;34m,\u001b[0m \u001b[0;34m\"en\"\u001b[0m\u001b[0;34m)\u001b[0m\u001b[0;34m\u001b[0m\u001b[0;34m\u001b[0m\u001b[0m\n\u001b[1;32m      5\u001b[0m \u001b[0;32mreturn\u001b[0m \u001b[0;34m{\u001b[0m\u001b[0;34m}\u001b[0m\u001b[0;34m\u001b[0m\u001b[0;34m\u001b[0m\u001b[0m\n",
            "\u001b[0;31mNameError\u001b[0m: name 'phonenumbers' is not defined"
          ]
        }
      ]
    }
  ]
}